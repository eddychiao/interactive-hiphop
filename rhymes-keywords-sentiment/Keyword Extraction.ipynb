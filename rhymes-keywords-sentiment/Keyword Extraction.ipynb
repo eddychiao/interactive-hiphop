{
 "cells": [
  {
   "cell_type": "markdown",
   "metadata": {},
   "source": [
    "# Keyword Extraction"
   ]
  },
  {
   "cell_type": "markdown",
   "metadata": {},
   "source": [
    "## Imports"
   ]
  },
  {
   "cell_type": "code",
   "execution_count": 1,
   "metadata": {},
   "outputs": [],
   "source": [
    "import os\n",
    "import string\n",
    "\n",
    "import nltk\n",
    "# nltk.download()\n",
    "from nltk.corpus import stopwords \n",
    "from nltk.tokenize import word_tokenize\n",
    "from nltk.probability import FreqDist\n",
    "\n",
    "import matplotlib.pyplot as plt\n",
    "%matplotlib inline"
   ]
  },
  {
   "cell_type": "markdown",
   "metadata": {},
   "source": [
    "## Preprocessing"
   ]
  },
  {
   "cell_type": "code",
   "execution_count": 2,
   "metadata": {},
   "outputs": [
    {
     "data": {
      "text/plain": [
       "'flash that buttery gold\\njittery zeitgeist, wither by the watering hole, what a patrol\\nwhat are we to heart huckabee, art fuckery suddenly\\nnot enough young in his lung for the water wings\\ncolorfully vulgar poacher, out of mulch\\nlike, \"i\\'ma pull the pulse out a soldier and bolt.\"\\nfine, sign of the time we elapse\\nwhen a primate climb up a spine and attach\\neye for an eye, by the bog life swamps and vines\\nthey get a rise out of frogs and flies\\nso when a dogfight\\'s hog-tied prize sort of costs a life\\nthe mouths water on a fork and knife\\nand the allure isn\\'t right\\nno score on a war-torn beach\\nwhere the cash cow\\'s actually beef\\nblood turns wine when it leak for police\\nlike, \"that\\'s not a riot; it\\'s a feast, let\\'s eat!\"\\nand i will remember your name and face\\non the day you are judged by the funhouse cast\\nand i will rejoice in your fall from grace\\nwith a cane to the sky, like, \"none shall pass.\"\\nnone shall pass, none shall pass\\nnow, if you never had a day a snow cone couldn\\'t fix\\nyou wouldn\\'t relate to the rogue vocoder blitz\\nhow he spoke through a nodoz motor on the fritz\\n‘cause he wouldn\\'t play rollover fetch like a bitch\\nand express no regrets, though he isn\\'t worth a homeowner\\'s piss\\nto the jokers who pose by the glitz\\nfine, sign of the swine in the swarm\\nwhen a king is a whore who comply and conform\\nmiles outside of the eye of the storm\\nwith a siphon to lure out a prize and award\\nwhile avoiding the vile and bizarre that is violence and war\\ntrue blue triumph is more\\nlike, \"wait, let him snake up out of the centerfold\\nlet it break the walls of jericho, ready go.\"\\nsat where the old, cardboard city folk\\nswap tales with heads, like every other penny throw\\nand i will remember your name and face\\non the day you are judged by the funhouse cast\\nand i will rejoice in your fall from grace\\nwith a cane to the sky, like, \"none shall pass.\"\\nnone shall pass, none shall pass\\nyou tried, you tried, you tried to trick me\\nyou\\'ve got a, you\\'ve, you\\'ve got a, a lot of nerve\\ni\\'m, i\\'m not, i\\'m not, trying to trick you\\ni\\'m try, i\\'m try, i\\'m trying to help\\nokay, woke to a grocery list, goes like this\\nduty and death; any one object, come stand in the way\\nyou could be my little snake river canyon today\\nand i ran with a chain of commands\\nand a jetpack strapped where the backstab lands if it can\\nfine, sign of the vibe in the crowd\\nwhen i cut a belly open to find what climb out\\nthat\\'s quite a bit of gusto he muster up\\nto make a dark horse rush, like, \"enough\\'s enough!\"\\nit must\\'ve struck a nerve so they huff and puff\\n\\'til all the king\\'s men fluster and clusterfuck\\nand it\\'s a beautiful thing\\nto my people who keep an impressive wingspan\\neven when the cubicle shrink\\nyou got to pull up the intruder by the root of the weed\\nn.y. chew through the machine\\nand i will remember your name and face\\non the day you are judged by the funhouse cast\\nand i will rejoice in your fall from grace\\nwith a cane to the sky, like, \"none shall pass.\"\\nnone shall pass, none shall pass'"
      ]
     },
     "execution_count": 2,
     "metadata": {},
     "output_type": "execute_result"
    }
   ],
   "source": [
    "song = None # will use the lyrics from None Shall Pass by Aesop Rock for demonstration\n",
    "with open(\"noneshallpass.txt\", \"r\") as f:\n",
    "    song = f.read().lower()\n",
    "song[:] # Will need to clean the text"
   ]
  },
  {
   "cell_type": "markdown",
   "metadata": {},
   "source": [
    "In addition to making the text lowercase and splitting it into lines, we should remove [stop words](https://www.geeksforgeeks.org/removing-stop-words-nltk-python/) from the text."
   ]
  },
  {
   "cell_type": "code",
   "execution_count": 3,
   "metadata": {},
   "outputs": [
    {
     "data": {
      "text/plain": [
       "['flash',\n",
       " 'buttery',\n",
       " 'gold',\n",
       " 'jittery',\n",
       " 'zeitgeist',\n",
       " 'wither',\n",
       " 'watering',\n",
       " 'hole',\n",
       " 'patrol',\n",
       " 'heart',\n",
       " 'huckabee',\n",
       " 'art',\n",
       " 'fuckery',\n",
       " 'suddenly',\n",
       " 'enough',\n",
       " 'young',\n",
       " 'lung',\n",
       " 'water',\n",
       " 'wings',\n",
       " 'colorfully',\n",
       " 'vulgar',\n",
       " 'poacher',\n",
       " 'mulch',\n",
       " 'like',\n",
       " 'pull',\n",
       " 'pulse',\n",
       " 'soldier',\n",
       " 'bolt',\n",
       " 'fine',\n",
       " 'sign',\n",
       " 'time',\n",
       " 'elapse',\n",
       " 'primate',\n",
       " 'climb',\n",
       " 'spine',\n",
       " 'attach',\n",
       " 'eye',\n",
       " 'eye',\n",
       " 'bog',\n",
       " 'life',\n",
       " 'swamps',\n",
       " 'vines',\n",
       " 'get',\n",
       " 'rise',\n",
       " 'frogs',\n",
       " 'flies',\n",
       " 'dogfight',\n",
       " 'prize',\n",
       " 'sort',\n",
       " 'costs',\n",
       " 'life',\n",
       " 'mouths',\n",
       " 'water',\n",
       " 'fork',\n",
       " 'knife',\n",
       " 'allure',\n",
       " 'right',\n",
       " 'score',\n",
       " 'beach',\n",
       " 'cash',\n",
       " 'cow',\n",
       " 'actually',\n",
       " 'beef',\n",
       " 'blood',\n",
       " 'turns',\n",
       " 'wine',\n",
       " 'leak',\n",
       " 'police',\n",
       " 'like',\n",
       " 'riot',\n",
       " 'feast',\n",
       " 'let',\n",
       " 'eat',\n",
       " 'remember',\n",
       " 'name',\n",
       " 'face',\n",
       " 'day',\n",
       " 'judged',\n",
       " 'funhouse',\n",
       " 'cast',\n",
       " 'rejoice',\n",
       " 'fall',\n",
       " 'grace',\n",
       " 'cane',\n",
       " 'sky',\n",
       " 'like',\n",
       " 'none',\n",
       " 'shall',\n",
       " 'pass',\n",
       " 'none',\n",
       " 'shall',\n",
       " 'pass',\n",
       " 'none',\n",
       " 'shall',\n",
       " 'pass',\n",
       " 'never',\n",
       " 'day',\n",
       " 'snow',\n",
       " 'cone',\n",
       " 'could',\n",
       " 'fix',\n",
       " 'would',\n",
       " 'relate',\n",
       " 'rogue',\n",
       " 'vocoder',\n",
       " 'blitz',\n",
       " 'spoke',\n",
       " 'nodoz',\n",
       " 'motor',\n",
       " 'fritz',\n",
       " 'cause',\n",
       " 'would',\n",
       " 'play',\n",
       " 'rollover',\n",
       " 'fetch',\n",
       " 'like',\n",
       " 'bitch',\n",
       " 'express',\n",
       " 'regrets',\n",
       " 'though',\n",
       " 'worth',\n",
       " 'homeowner',\n",
       " 'piss',\n",
       " 'jokers',\n",
       " 'pose',\n",
       " 'glitz',\n",
       " 'fine',\n",
       " 'sign',\n",
       " 'swine',\n",
       " 'swarm',\n",
       " 'king',\n",
       " 'whore',\n",
       " 'comply',\n",
       " 'conform',\n",
       " 'miles',\n",
       " 'outside',\n",
       " 'eye',\n",
       " 'storm',\n",
       " 'siphon',\n",
       " 'lure',\n",
       " 'prize',\n",
       " 'award',\n",
       " 'avoiding',\n",
       " 'vile',\n",
       " 'bizarre',\n",
       " 'violence',\n",
       " 'war',\n",
       " 'true',\n",
       " 'blue',\n",
       " 'triumph',\n",
       " 'like',\n",
       " 'wait',\n",
       " 'let',\n",
       " 'snake',\n",
       " 'centerfold',\n",
       " 'let',\n",
       " 'break',\n",
       " 'walls',\n",
       " 'jericho',\n",
       " 'ready',\n",
       " 'go',\n",
       " 'sat',\n",
       " 'old',\n",
       " 'cardboard',\n",
       " 'city',\n",
       " 'folk',\n",
       " 'swap',\n",
       " 'tales',\n",
       " 'heads',\n",
       " 'like',\n",
       " 'every',\n",
       " 'penny',\n",
       " 'throw',\n",
       " 'remember',\n",
       " 'name',\n",
       " 'face',\n",
       " 'day',\n",
       " 'judged',\n",
       " 'funhouse',\n",
       " 'cast',\n",
       " 'rejoice',\n",
       " 'fall',\n",
       " 'grace',\n",
       " 'cane',\n",
       " 'sky',\n",
       " 'like',\n",
       " 'none',\n",
       " 'shall',\n",
       " 'pass',\n",
       " 'none',\n",
       " 'shall',\n",
       " 'pass',\n",
       " 'none',\n",
       " 'shall',\n",
       " 'pass',\n",
       " 'tried',\n",
       " 'tried',\n",
       " 'tried',\n",
       " 'trick',\n",
       " 'got',\n",
       " 'got',\n",
       " 'lot',\n",
       " 'nerve',\n",
       " 'trying',\n",
       " 'trick',\n",
       " 'try',\n",
       " 'try',\n",
       " 'trying',\n",
       " 'help',\n",
       " 'okay',\n",
       " 'woke',\n",
       " 'grocery',\n",
       " 'list',\n",
       " 'goes',\n",
       " 'like',\n",
       " 'duty',\n",
       " 'death',\n",
       " 'one',\n",
       " 'object',\n",
       " 'come',\n",
       " 'stand',\n",
       " 'way',\n",
       " 'could',\n",
       " 'little',\n",
       " 'snake',\n",
       " 'river',\n",
       " 'canyon',\n",
       " 'today',\n",
       " 'ran',\n",
       " 'chain',\n",
       " 'commands',\n",
       " 'jetpack',\n",
       " 'strapped',\n",
       " 'backstab',\n",
       " 'lands',\n",
       " 'fine',\n",
       " 'sign',\n",
       " 'vibe',\n",
       " 'crowd',\n",
       " 'cut',\n",
       " 'belly',\n",
       " 'open',\n",
       " 'find',\n",
       " 'climb',\n",
       " 'quite',\n",
       " 'bit',\n",
       " 'gusto',\n",
       " 'muster',\n",
       " 'make',\n",
       " 'dark',\n",
       " 'horse',\n",
       " 'rush',\n",
       " 'like',\n",
       " 'enough',\n",
       " 'enough',\n",
       " 'must',\n",
       " 'struck',\n",
       " 'nerve',\n",
       " 'huff',\n",
       " 'puff',\n",
       " 'king',\n",
       " 'men',\n",
       " 'fluster',\n",
       " 'clusterfuck',\n",
       " 'beautiful',\n",
       " 'thing',\n",
       " 'people',\n",
       " 'keep',\n",
       " 'impressive',\n",
       " 'wingspan',\n",
       " 'even',\n",
       " 'cubicle',\n",
       " 'shrink',\n",
       " 'got',\n",
       " 'pull',\n",
       " 'intruder',\n",
       " 'root',\n",
       " 'weed',\n",
       " 'chew',\n",
       " 'machine',\n",
       " 'remember',\n",
       " 'name',\n",
       " 'face',\n",
       " 'day',\n",
       " 'judged',\n",
       " 'funhouse',\n",
       " 'cast',\n",
       " 'rejoice',\n",
       " 'fall',\n",
       " 'grace',\n",
       " 'cane',\n",
       " 'sky',\n",
       " 'like',\n",
       " 'none',\n",
       " 'shall',\n",
       " 'pass',\n",
       " 'none',\n",
       " 'shall',\n",
       " 'pass',\n",
       " 'none',\n",
       " 'shall',\n",
       " 'pass']"
      ]
     },
     "execution_count": 3,
     "metadata": {},
     "output_type": "execute_result"
    }
   ],
   "source": [
    "stop_words = set(stopwords.words('english'))\n",
    "extra_stop_words = [\"n't\", \"'s\", \"'m\", \"``\", \"'\", '\"', '.', \",\"]\n",
    "for word in extra_stop_words:\n",
    "    stop_words.add(word)\n",
    "word_tokens = word_tokenize(song)\n",
    "data = [w for w in word_tokens if w not in stop_words and w.isalpha()]\n",
    "data"
   ]
  },
  {
   "cell_type": "markdown",
   "metadata": {},
   "source": [
    "## Statistical Methods"
   ]
  },
  {
   "cell_type": "markdown",
   "metadata": {},
   "source": [
    "### Term Frequency"
   ]
  },
  {
   "cell_type": "code",
   "execution_count": 4,
   "metadata": {},
   "outputs": [
    {
     "data": {
      "image/png": "[encoded data removed]",
      "text/plain": [
       "<Figure size 432x288 with 1 Axes>"
      ]
     },
     "metadata": {
      "needs_background": "light"
     },
     "output_type": "display_data"
    },
    {
     "data": {
      "text/plain": [
       "<matplotlib.axes._subplots.AxesSubplot at 0x112b00410>"
      ]
     },
     "execution_count": 4,
     "metadata": {},
     "output_type": "execute_result"
    }
   ],
   "source": [
    "fd = FreqDist(data)\n",
    "fd.plot(10)"
   ]
  },
  {
   "cell_type": "markdown",
   "metadata": {},
   "source": [
    "The words \"none shall pass\" appear multiple times in each chorus, so their high ranking in the frequency list is not surprising."
   ]
  },
  {
   "cell_type": "code",
   "execution_count": 5,
   "metadata": {},
   "outputs": [
    {
     "data": {
      "text/plain": [
       "[('like', 10),\n",
       " ('none', 9),\n",
       " ('shall', 9),\n",
       " ('pass', 9),\n",
       " ('day', 4),\n",
       " ('enough', 3),\n",
       " ('fine', 3),\n",
       " ('sign', 3),\n",
       " ('eye', 3),\n",
       " ('let', 3),\n",
       " ('remember', 3),\n",
       " ('name', 3),\n",
       " ('face', 3),\n",
       " ('judged', 3),\n",
       " ('funhouse', 3)]"
      ]
     },
     "execution_count": 5,
     "metadata": {},
     "output_type": "execute_result"
    }
   ],
   "source": [
    "fd.most_common(15)"
   ]
  },
  {
   "cell_type": "markdown",
   "metadata": {},
   "source": [
    "### RAKE (Rapid Automatic Keyword Extraction)\n",
    "\n",
    "RAKE short for Rapid Automatic Keyword Extraction algorithm, is a domain independent keyword extraction algorithm which tries to determine key phrases in a body of text by analyzing the frequency of word appearance and its co-occurance with other words in the text. [Source](https://github.com/csurfer/rake-nltk)"
   ]
  },
  {
   "cell_type": "code",
   "execution_count": 6,
   "metadata": {},
   "outputs": [],
   "source": [
    "from rake_nltk import Rake"
   ]
  },
  {
   "cell_type": "code",
   "execution_count": 7,
   "metadata": {},
   "outputs": [
    {
     "data": {
      "text/plain": [
       "[(25.0, 'cardboard city folk swap tales'),\n",
       " (25.0, 'actually beef blood turns wine'),\n",
       " (23.5, 'water wings colorfully vulgar poacher'),\n",
       " (23.0, 'little snake river canyon today'),\n",
       " (16.0, 'buttery gold jittery zeitgeist'),\n",
       " (14.5, 'war true blue triumph'),\n",
       " (14.166666666666666, 'play rollover fetch like'),\n",
       " (13.5, 'none shall pass .\"'),\n",
       " (10.5, 'none shall pass'),\n",
       " (9.0, 'rogue vocoder blitz')]"
      ]
     },
     "execution_count": 7,
     "metadata": {},
     "output_type": "execute_result"
    }
   ],
   "source": [
    "rake = Rake()\n",
    "# rake.extract_keywords_from_sentences(data)\n",
    "rake.extract_keywords_from_text(song) # Rake seems to work best with the unprocessed data\n",
    "rake.get_ranked_phrases_with_scores()[:10]"
   ]
  },
  {
   "cell_type": "markdown",
   "metadata": {},
   "source": [
    "### N-Gram Frequencies\n",
    "\n",
    "While I have only found [one paper](https://www.researchgate.net/publication/272674061_Automatic_Keyword_Extraction_From_Any_Text_Document_Using_N-gram_Rigid_Collocation) on keyword extraction using bi-grams and N-grams, they could have application for our purposes."
   ]
  },
  {
   "cell_type": "code",
   "execution_count": 8,
   "metadata": {},
   "outputs": [
    {
     "data": {
      "text/plain": [
       "[(('none', 'shall'), 9),\n",
       " (('shall', 'pass'), 9),\n",
       " (('pass', 'none'), 6),\n",
       " (('fine', 'sign'), 3),\n",
       " (('remember', 'name'), 3),\n",
       " (('name', 'face'), 3),\n",
       " (('face', 'day'), 3),\n",
       " (('day', 'judged'), 3),\n",
       " (('judged', 'funhouse'), 3),\n",
       " (('funhouse', 'cast'), 3)]"
      ]
     },
     "execution_count": 8,
     "metadata": {},
     "output_type": "execute_result"
    }
   ],
   "source": [
    "bigrams = nltk.bigrams(data)\n",
    "bg_fd = FreqDist(bigrams)\n",
    "bg_fd.most_common(10)"
   ]
  },
  {
   "cell_type": "markdown",
   "metadata": {},
   "source": [
    "This [article](https://medium.com/reputation-com-datascience-blog/keywords-extraction-with-ngram-and-modified-skip-gram-based-on-spacy-14e5625fce23) demonstrates a keyword extraction algorithm using n-grams and \"modified skip-grams\". It may be worthwhile to reproduce the system in this article."
   ]
  },
  {
   "cell_type": "markdown",
   "metadata": {},
   "source": [
    "## TextRank\n",
    "\n",
    "[Source](https://towardsdatascience.com/textrank-for-keyword-extraction-by-python-c0bae21bcec0)"
   ]
  },
  {
   "cell_type": "code",
   "execution_count": 9,
   "metadata": {},
   "outputs": [],
   "source": [
    "from collections import OrderedDict\n",
    "import numpy as np\n",
    "import spacy\n",
    "from spacy.lang.en.stop_words import STOP_WORDS\n",
    "\n",
    "nlp = spacy.load('en_core_web_sm')"
   ]
  },
  {
   "cell_type": "code",
   "execution_count": 10,
   "metadata": {},
   "outputs": [],
   "source": [
    "class TextRankForKeyword():\n",
    "    \"\"\"Extract keywords from text\"\"\"\n",
    "    def __init__(self):\n",
    "        self.d = 0.85 # damping coefficient, usually is .85\n",
    "        self.min_diff = 1e-5 # convergence threshold\n",
    "        self.steps = 10 # iteration steps\n",
    "        self.node_weight = None # save keywords and its weight\n",
    "\n",
    "    def set_stopwords(self, stopwords):  \n",
    "        \"\"\"Set stop words\"\"\"\n",
    "        for word in STOP_WORDS.union(set(stopwords)):\n",
    "            lexeme = nlp.vocab[word]\n",
    "            lexeme.is_stop = True\n",
    "    \n",
    "    def sentence_segment(self, doc, candidate_pos, lower):\n",
    "        \"\"\"Store those words only in cadidate_pos\"\"\"\n",
    "        sentences = []\n",
    "        for sent in doc.sents:\n",
    "            selected_words = []\n",
    "            for token in sent:\n",
    "                # Store words only with cadidate POS tag\n",
    "                if token.pos_ in candidate_pos and token.is_stop is False:\n",
    "                    if lower is True:\n",
    "                        selected_words.append(token.text.lower())\n",
    "                    else:\n",
    "                        selected_words.append(token.text)\n",
    "            sentences.append(selected_words)\n",
    "        return sentences\n",
    "        \n",
    "    def get_vocab(self, sentences):\n",
    "        \"\"\"Get all tokens\"\"\"\n",
    "        vocab = OrderedDict()\n",
    "        i = 0\n",
    "        for sentence in sentences:\n",
    "            for word in sentence:\n",
    "                if word not in vocab:\n",
    "                    vocab[word] = i\n",
    "                    i += 1\n",
    "        return vocab\n",
    "    \n",
    "    def get_token_pairs(self, window_size, sentences):\n",
    "        \"\"\"Build token_pairs from windows in sentences\"\"\"\n",
    "        token_pairs = list()\n",
    "        for sentence in sentences:\n",
    "            for i, word in enumerate(sentence):\n",
    "                for j in range(i+1, i+window_size):\n",
    "                    if j >= len(sentence):\n",
    "                        break\n",
    "                    pair = (word, sentence[j])\n",
    "                    if pair not in token_pairs:\n",
    "                        token_pairs.append(pair)\n",
    "        return token_pairs\n",
    "        \n",
    "    def symmetrize(self, a):\n",
    "        return a + a.T - np.diag(a.diagonal())\n",
    "    \n",
    "    def get_matrix(self, vocab, token_pairs):\n",
    "        \"\"\"Get normalized matrix\"\"\"\n",
    "        # Build matrix\n",
    "        vocab_size = len(vocab)\n",
    "        g = np.zeros((vocab_size, vocab_size), dtype='float')\n",
    "        for word1, word2 in token_pairs:\n",
    "            i, j = vocab[word1], vocab[word2]\n",
    "            g[i][j] = 1\n",
    "            \n",
    "        # Get Symmeric matrix\n",
    "        g = self.symmetrize(g)\n",
    "        \n",
    "        # Normalize matrix by column\n",
    "        norm = np.sum(g, axis=0)\n",
    "        g_norm = np.divide(g, norm, where=norm!=0) # this is ignore the 0 element in norm\n",
    "        \n",
    "        return g_norm\n",
    "\n",
    "    \n",
    "    def get_keywords(self, number=10):\n",
    "        \"\"\"Print top number keywords\"\"\"\n",
    "        node_weight = OrderedDict(sorted(self.node_weight.items(), key=lambda t: t[1], reverse=True))\n",
    "        for i, (key, value) in enumerate(node_weight.items()):\n",
    "            print(key + ' - ' + str(value))\n",
    "            if i > number:\n",
    "                break\n",
    "        \n",
    "        \n",
    "    def analyze(self, text, \n",
    "                candidate_pos=['NOUN', 'PROPN'], \n",
    "                window_size=4, lower=False, stopwords=list()):\n",
    "        \"\"\"Main function to analyze text\"\"\"\n",
    "        \n",
    "        # Set stop words\n",
    "        self.set_stopwords(stopwords)\n",
    "        \n",
    "        # Pare text by spaCy\n",
    "        doc = nlp(text)\n",
    "        \n",
    "        # Filter sentences\n",
    "        sentences = self.sentence_segment(doc, candidate_pos, lower) # list of list of words\n",
    "        \n",
    "        # Build vocabulary\n",
    "        vocab = self.get_vocab(sentences)\n",
    "        \n",
    "        # Get token_pairs from windows\n",
    "        token_pairs = self.get_token_pairs(window_size, sentences)\n",
    "        \n",
    "        # Get normalized matrix\n",
    "        g = self.get_matrix(vocab, token_pairs)\n",
    "        \n",
    "        # Initionlization for weight(pagerank value)\n",
    "        pr = np.array([1] * len(vocab))\n",
    "        \n",
    "        # Iteration\n",
    "        previous_pr = 0\n",
    "        for epoch in range(self.steps):\n",
    "            pr = (1-self.d) + self.d * np.dot(g, pr)\n",
    "            if abs(previous_pr - sum(pr))  < self.min_diff:\n",
    "                break\n",
    "            else:\n",
    "                previous_pr = sum(pr)\n",
    "\n",
    "        # Get weight for each node\n",
    "        node_weight = dict()\n",
    "        for word, index in vocab.items():\n",
    "            node_weight[word] = pr[index]\n",
    "        \n",
    "        self.node_weight = node_weight"
   ]
  },
  {
   "cell_type": "code",
   "execution_count": 11,
   "metadata": {},
   "outputs": [
    {
     "name": "stdout",
     "output_type": "stream",
     "text": [
      "sign - 2.275466168091168\n",
      "eye - 1.830317437815034\n",
      "war - 1.820202117327117\n",
      "day - 1.6412334467120182\n",
      "prize - 1.6356643281931742\n",
      "king - 1.5934580085868544\n",
      "life - 1.5895065047666006\n",
      "water - 1.467084328865579\n",
      "patrol - 1.250513888888889\n",
      "hole - 1.243076388888889\n",
      "heart - 1.243076388888889\n",
      "face - 1.2129230725623583\n"
     ]
    }
   ],
   "source": [
    "textrank = TextRankForKeyword()\n",
    "textrank.analyze(song)\n",
    "textrank.get_keywords(10)"
   ]
  },
  {
   "cell_type": "markdown",
   "metadata": {},
   "source": [
    "## Machine Learning\n",
    "\n",
    "Machine learning approaches have been used for keyword extraction with some success. Hidden Markov models, naive Bayes, support vector machines (SVM), and bagging have been used for these purposes. However, these require labelled sets of training data, which may prove difficult for our purposes. Perhaps we could find a pre-trained model?"
   ]
  },
  {
   "cell_type": "code",
   "execution_count": null,
   "metadata": {},
   "outputs": [],
   "source": []
  }
 ],
 "metadata": {
  "kernelspec": {
   "display_name": "Python [conda env:inthiphop] *",
   "language": "python",
   "name": "conda-env-inthiphop-py"
  },
  "language_info": {
   "codemirror_mode": {
    "name": "ipython",
    "version": 3
   },
   "file_extension": ".py",
   "mimetype": "text/x-python",
   "name": "python",
   "nbconvert_exporter": "python",
   "pygments_lexer": "ipython3",
   "version": "3.7.4"
  }
 },
 "nbformat": 4,
 "nbformat_minor": 2
}
